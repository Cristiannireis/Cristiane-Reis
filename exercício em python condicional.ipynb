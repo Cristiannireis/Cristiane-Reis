{
 "cells": [
  {
   "cell_type": "code",
   "execution_count": 1,
   "id": "56e720e3",
   "metadata": {},
   "outputs": [],
   "source": [
    "nome = 'João'\n"
   ]
  },
  {
   "cell_type": "code",
   "execution_count": 2,
   "id": "81f71ca6",
   "metadata": {},
   "outputs": [],
   "source": [
    "def parametro(nome_da_pessoa):\n",
    "    print(f'Olá, {nome_da_pessoa}')"
   ]
  },
  {
   "cell_type": "code",
   "execution_count": 3,
   "id": "519d2466",
   "metadata": {},
   "outputs": [
    {
     "name": "stdout",
     "output_type": "stream",
     "text": [
      "Olá, João\n"
     ]
    }
   ],
   "source": [
    "parametro(nome)"
   ]
  },
  {
   "cell_type": "code",
   "execution_count": 11,
   "id": "70c3c1eb",
   "metadata": {},
   "outputs": [
    {
     "name": "stdout",
     "output_type": "stream",
     "text": [
      "Não tem permissão para dirigir\n"
     ]
    }
   ],
   "source": [
    "idade = 15\n",
    "\n",
    "def pode_dirigir(idade):\n",
    "    if idade >= 18:\n",
    "        print('tem permissão para dirigir')\n",
    "    else:\n",
    "        print('Não tem permissão para dirigir')\n",
    "pode_dirigir(idade)"
   ]
  },
  {
   "cell_type": "code",
   "execution_count": 13,
   "id": "ac70ac0d",
   "metadata": {},
   "outputs": [
    {
     "name": "stdout",
     "output_type": "stream",
     "text": [
      "Qual a sua idade15\n",
      "Não tem permissão para dirigir\n"
     ]
    }
   ],
   "source": [
    "def pode_dirigir(idade):\n",
    "    idade = int(input('Qual a sua idade'))\n",
    "    if idade >= 18:\n",
    "        print('tem permissão para dirigir')\n",
    "    else:\n",
    "        print('Não tem permissão para dirigir')\n",
    "pode_dirigir(idade)"
   ]
  },
  {
   "cell_type": "code",
   "execution_count": 18,
   "id": "fbf3fe88",
   "metadata": {},
   "outputs": [],
   "source": [
    "def velocidade(espaço, tempo):\n",
    "    v = espaço / tempo\n",
    "    print(f'velocidade: {v} m/s')\n",
    "    velocidade (100, 20)"
   ]
  },
  {
   "cell_type": "code",
   "execution_count": null,
   "id": "4329008f",
   "metadata": {},
   "outputs": [],
   "source": []
  }
 ],
 "metadata": {
  "kernelspec": {
   "display_name": "Python 3 (ipykernel)",
   "language": "python",
   "name": "python3"
  },
  "language_info": {
   "codemirror_mode": {
    "name": "ipython",
    "version": 3
   },
   "file_extension": ".py",
   "mimetype": "text/x-python",
   "name": "python",
   "nbconvert_exporter": "python",
   "pygments_lexer": "ipython3",
   "version": "3.9.7"
  }
 },
 "nbformat": 4,
 "nbformat_minor": 5
}
