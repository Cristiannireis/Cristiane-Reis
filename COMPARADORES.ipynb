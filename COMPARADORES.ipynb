{
 "cells": [
  {
   "cell_type": "code",
   "execution_count": null,
   "id": "fae9eb9a",
   "metadata": {},
   "outputs": [],
   "source": [
    "== igual\n",
    "!= diferente\n",
    "> maior que (>= menor igual)\n",
    "< menor que (<= maior igual)\n",
    "in se texto existe dentro de outro texto\n",
    "not verificar o contrário da comparação\n",
    "\n",
    "Obs se a comparação não for fazer nada digite:\n",
    "pass\n"
   ]
  },
  {
   "cell_type": "code",
   "execution_count": 7,
   "id": "8cca8af9",
   "metadata": {},
   "outputs": [
    {
     "name": "stdout",
     "output_type": "stream",
     "text": [
      "digite o faturamento_loja1 5000\n",
      "digite o faturamento_loja2 5000\n",
      "faturamento foi 5000 então foi igual\n"
     ]
    }
   ],
   "source": [
    "faturamento_loja1 = int(input('digite o faturamento_loja1 '))\n",
    "faturamento_loja2 = int(input('digite o faturamento_loja2 '))\n",
    "\n",
    "if faturamento_loja1 == faturamento_loja2:\n",
    "    print('faturamento foi {} então foi igual'.format(faturamento_loja1,faturamento_loja2))\n",
    "else:\n",
    "    print('O faturamento foi de {} então foi diferente'.format(faturamento_loja1,faturamento_loja2))"
   ]
  },
  {
   "cell_type": "code",
   "execution_count": 14,
   "id": "af1763ed",
   "metadata": {},
   "outputs": [
    {
     "name": "stdout",
     "output_type": "stream",
     "text": [
      "email@gmail.comcristiane@gmail.com\n",
      "email errado cristiane@gmail.com concerte\n"
     ]
    }
   ],
   "source": [
    "email = str(input('email@gmail.com'))\n",
    "if not '@gmail.com' in email:\n",
    "    print('seu email está {} correto'.format(email))\n",
    "else:\n",
    "    print('email errado {} concerte'.format(email))"
   ]
  },
  {
   "cell_type": "code",
   "execution_count": null,
   "id": "791d7bf3",
   "metadata": {},
   "outputs": [],
   "source": []
  }
 ],
 "metadata": {
  "kernelspec": {
   "display_name": "Python 3 (ipykernel)",
   "language": "python",
   "name": "python3"
  },
  "language_info": {
   "codemirror_mode": {
    "name": "ipython",
    "version": 3
   },
   "file_extension": ".py",
   "mimetype": "text/x-python",
   "name": "python",
   "nbconvert_exporter": "python",
   "pygments_lexer": "ipython3",
   "version": "3.9.7"
  }
 },
 "nbformat": 4,
 "nbformat_minor": 5
}
