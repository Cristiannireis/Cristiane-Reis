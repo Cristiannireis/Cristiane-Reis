{
 "cells": [
  {
   "cell_type": "code",
   "execution_count": 1,
   "id": "5bfa5067",
   "metadata": {},
   "outputs": [],
   "source": [
    "faturamento = 1000\n",
    "custo = 800\n",
    "lucro = 1900"
   ]
  },
  {
   "cell_type": "code",
   "execution_count": 9,
   "id": "c8c48f2d",
   "metadata": {},
   "outputs": [
    {
     "name": "stdout",
     "output_type": "stream",
     "text": [
      "o meu faturamento foi de 1000\n",
      "O meu custo foi de 800\n",
      "O meu lucro foi de 1100 reais\n"
     ]
    }
   ],
   "source": [
    "print('o meu faturamento foi de '+ str(faturamento))\n",
    "print('O meu custo foi de '+ str(800))\n",
    "print ('O meu lucro foi de ' + str(lucro - custo) + ' reais')"
   ]
  },
  {
   "cell_type": "code",
   "execution_count": 10,
   "id": "ba80f2f1",
   "metadata": {},
   "outputs": [
    {
     "name": "stdout",
     "output_type": "stream",
     "text": [
      "O meu faturamento foi de 1000. O custo da loja foi 800 \n"
     ]
    }
   ],
   "source": [
    "print('O meu faturamento foi de {}. O custo da loja foi {} '.format(faturamento, custo) )"
   ]
  },
  {
   "cell_type": "code",
   "execution_count": null,
   "id": "f31b30c3",
   "metadata": {},
   "outputs": [],
   "source": []
  }
 ],
 "metadata": {
  "kernelspec": {
   "display_name": "Python 3 (ipykernel)",
   "language": "python",
   "name": "python3"
  },
  "language_info": {
   "codemirror_mode": {
    "name": "ipython",
    "version": 3
   },
   "file_extension": ".py",
   "mimetype": "text/x-python",
   "name": "python",
   "nbconvert_exporter": "python",
   "pygments_lexer": "ipython3",
   "version": "3.9.7"
  }
 },
 "nbformat": 4,
 "nbformat_minor": 5
}
