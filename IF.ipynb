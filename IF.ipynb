{
 "cells": [
  {
   "cell_type": "code",
   "execution_count": 7,
   "id": "7663c82c",
   "metadata": {},
   "outputs": [
    {
     "name": "stdout",
     "output_type": "stream",
     "text": [
      "batemos a meta 30000\n"
     ]
    }
   ],
   "source": [
    "meta = 60000\n",
    "qta_vendida = 30000\n",
    "\n",
    "if qta_vendida < 60000:\n",
    "    print('batemos a meta {}'.format(qta_vendida))"
   ]
  },
  {
   "cell_type": "code",
   "execution_count": 11,
   "id": "be7e2efc",
   "metadata": {},
   "outputs": [
    {
     "name": "stdout",
     "output_type": "stream",
     "text": [
      "Batemos a meta 25000\n"
     ]
    }
   ],
   "source": [
    "meta = 30000\n",
    "qta_vendida = 25000\n",
    "if qta_vendida > meta:\n",
    "    print('Batemos a meta {}'.format(qta_vendida))\n",
    "else:\n",
    "    print('Não batemos a meta vendemos {} unidade. A meta era de {}'.format(qta_vendida, meta))"
   ]
  },
  {
   "cell_type": "code",
   "execution_count": null,
   "id": "001f9779",
   "metadata": {},
   "outputs": [],
   "source": []
  }
 ],
 "metadata": {
  "kernelspec": {
   "display_name": "Python 3 (ipykernel)",
   "language": "python",
   "name": "python3"
  },
  "language_info": {
   "codemirror_mode": {
    "name": "ipython",
    "version": 3
   },
   "file_extension": ".py",
   "mimetype": "text/x-python",
   "name": "python",
   "nbconvert_exporter": "python",
   "pygments_lexer": "ipython3",
   "version": "3.9.7"
  }
 },
 "nbformat": 4,
 "nbformat_minor": 5
}
