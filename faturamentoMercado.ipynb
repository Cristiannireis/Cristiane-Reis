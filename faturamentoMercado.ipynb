{
 "cells": [
  {
   "cell_type": "code",
   "execution_count": null,
   "id": "6e1b67b2",
   "metadata": {},
   "outputs": [],
   "source": [
    "#Faturamento Mercado"
   ]
  },
  {
   "cell_type": "code",
   "execution_count": 1,
   "id": "66674236",
   "metadata": {},
   "outputs": [],
   "source": [
    "qta_pao = 150\n",
    "qta_leite = 130\n",
    "preço_pao = 1.50\n",
    "preço_leite = 1.50\n",
    "custo = 2500"
   ]
  },
  {
   "cell_type": "code",
   "execution_count": 2,
   "id": "9bc3cc7b",
   "metadata": {
    "scrolled": true
   },
   "outputs": [
    {
     "name": "stdout",
     "output_type": "stream",
     "text": [
      "225.0\n"
     ]
    }
   ],
   "source": [
    "print(preço_pao * qta_pao)"
   ]
  },
  {
   "cell_type": "code",
   "execution_count": 3,
   "id": "988fd51d",
   "metadata": {},
   "outputs": [
    {
     "name": "stdout",
     "output_type": "stream",
     "text": [
      "195.0\n"
     ]
    }
   ],
   "source": [
    "print(qta_leite * preço_leite)"
   ]
  },
  {
   "cell_type": "code",
   "execution_count": 4,
   "id": "0df469fe",
   "metadata": {},
   "outputs": [
    {
     "name": "stdout",
     "output_type": "stream",
     "text": [
      "-2080.0\n"
     ]
    }
   ],
   "source": [
    "faturamento = qta_pao * preço_pao + qta_leite * preço_leite\n",
    "lucro = faturamento - custo\n",
    "print(lucro)"
   ]
  },
  {
   "cell_type": "code",
   "execution_count": 5,
   "id": "5b109917",
   "metadata": {},
   "outputs": [
    {
     "name": "stdout",
     "output_type": "stream",
     "text": [
      "-4.9523809523809526\n"
     ]
    }
   ],
   "source": [
    "print(lucro / faturamento)"
   ]
  },
  {
   "cell_type": "code",
   "execution_count": null,
   "id": "ab50547b",
   "metadata": {},
   "outputs": [],
   "source": []
  },
  {
   "cell_type": "code",
   "execution_count": null,
   "id": "fd0ab9ce",
   "metadata": {},
   "outputs": [],
   "source": []
  }
 ],
 "metadata": {
  "kernelspec": {
   "display_name": "Python 3 (ipykernel)",
   "language": "python",
   "name": "python3"
  },
  "language_info": {
   "codemirror_mode": {
    "name": "ipython",
    "version": 3
   },
   "file_extension": ".py",
   "mimetype": "text/x-python",
   "name": "python",
   "nbconvert_exporter": "python",
   "pygments_lexer": "ipython3",
   "version": "3.9.7"
  }
 },
 "nbformat": 4,
 "nbformat_minor": 5
}
