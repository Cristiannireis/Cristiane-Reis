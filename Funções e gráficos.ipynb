{
 "cells": [
  {
   "cell_type": "code",
   "execution_count": 15,
   "id": "e2f366ef",
   "metadata": {},
   "outputs": [
    {
     "data": {
      "text/plain": [
       "35"
      ]
     },
     "execution_count": 15,
     "metadata": {},
     "output_type": "execute_result"
    }
   ],
   "source": [
    "idade = [15, 20, 35, 41, 58]\n",
    "\n",
    "idade[2]"
   ]
  },
  {
   "cell_type": "code",
   "execution_count": 31,
   "id": "03cd12ef",
   "metadata": {},
   "outputs": [],
   "source": [
    "idade = [15, 20, 35, 41, 58]"
   ]
  },
  {
   "cell_type": "code",
   "execution_count": 45,
   "id": "d57c05aa",
   "metadata": {},
   "outputs": [
    {
     "name": "stdout",
     "output_type": "stream",
     "text": [
      "15 Não pode dirigir\n",
      "20 Pode dirigir\n",
      "35 Pode dirigir\n",
      "41 Pode dirigir\n",
      "58 Pode dirigir\n"
     ]
    }
   ],
   "source": [
    "def pode_dirigir(idade):\n",
    "    for idade in idade:\n",
    "        if idade >= 18:\n",
    "             print(f'{idade} Pode dirigir')\n",
    "        else:\n",
    "             print(f'{idade} Não pode dirigir')\n",
    "pode_dirigir(idade)"
   ]
  },
  {
   "cell_type": "code",
   "execution_count": 116,
   "id": "a2e27dda",
   "metadata": {},
   "outputs": [],
   "source": [
    "permissoes = []\n",
    "idades = [20, 14, 40]  "
   ]
  },
  {
   "cell_type": "code",
   "execution_count": 117,
   "id": "c317d038",
   "metadata": {},
   "outputs": [],
   "source": [
    "def verifica_se_pode_dirigir(idades, permissoes):\n",
    "    for idade in idades:\n",
    "      if idade >= 18:\n",
    "          permissoes.append(True)\n",
    "      else:\n",
    "          permissoes.append(False)"
   ]
  },
  {
   "cell_type": "code",
   "execution_count": 113,
   "id": "04ff071a",
   "metadata": {},
   "outputs": [
    {
     "name": "stdout",
     "output_type": "stream",
     "text": [
      "O elemento guilherme é do tipo:  <class 'str'>\n",
      "O elemento 28 é do tipo:  <class 'int'>\n",
      "O elemento True é do tipo:  <class 'bool'>\n",
      "O elemento 18 é do tipo:  <class 'str'>\n"
     ]
    }
   ],
   "source": [
    "lista = ['guilherme', 28, True, '18' ]\n",
    "for elemento in lista:      \n",
    "    print(f'O elemento {elemento} é do tipo: ', type(elemento))"
   ]
  },
  {
   "cell_type": "code",
   "execution_count": null,
   "id": "0a241e77",
   "metadata": {},
   "outputs": [],
   "source": [
    "# Import\n"
   ]
  },
  {
   "cell_type": "code",
   "execution_count": null,
   "id": "0e2bd3cb",
   "metadata": {},
   "outputs": [],
   "source": []
  },
  {
   "cell_type": "code",
   "execution_count": 129,
   "id": "b779ec8e",
   "metadata": {},
   "outputs": [
    {
     "data": {
      "text/plain": [
       "10"
      ]
     },
     "execution_count": 129,
     "metadata": {},
     "output_type": "execute_result"
    }
   ],
   "source": [
    "from random import randrange, seed\n",
    "randrange(0, 11)"
   ]
  },
  {
   "cell_type": "code",
   "execution_count": 130,
   "id": "ab253479",
   "metadata": {},
   "outputs": [],
   "source": [
    "seed(5)"
   ]
  },
  {
   "cell_type": "code",
   "execution_count": 133,
   "id": "5f963f8c",
   "metadata": {},
   "outputs": [],
   "source": [
    "notas_matematica = []\n",
    "\n",
    "for notas in range(8):\n",
    "    notas_matematica.append([randrange(0,11)])\n"
   ]
  },
  {
   "cell_type": "code",
   "execution_count": 132,
   "id": "697e056c",
   "metadata": {},
   "outputs": [
    {
     "data": {
      "text/plain": [
       "8"
      ]
     },
     "execution_count": 132,
     "metadata": {},
     "output_type": "execute_result"
    }
   ],
   "source": [
    "len(notas_matematica)"
   ]
  },
  {
   "cell_type": "code",
   "execution_count": null,
   "id": "f9f808fc",
   "metadata": {},
   "outputs": [],
   "source": [
    "#matplotlib"
   ]
  },
  {
   "cell_type": "code",
   "execution_count": 143,
   "id": "8fe66e4c",
   "metadata": {},
   "outputs": [
    {
     "data": {
      "image/png": "[encoded data removed]",
      "text/plain": [
       "<Figure size 432x288 with 1 Axes>"
      ]
     },
     "metadata": {
      "needs_background": "light"
     },
     "output_type": "display_data"
    }
   ],
   "source": [
    "import matplotlib.pyplot as plt\n",
    "x = list(range(1,9))\n",
    "y = notas_matematica\n",
    "plt.plot(x, y, marker='o')\n",
    "plt.title('Notas de Matemática')\n",
    "plt.xlabel('Provas')\n",
    "plt.ylabel('Notas')\n",
    "plt.show()\n",
    "\n"
   ]
  },
  {
   "cell_type": "code",
   "execution_count": null,
   "id": "25d1b67a",
   "metadata": {},
   "outputs": [],
   "source": []
  }
 ],
 "metadata": {
  "kernelspec": {
   "display_name": "Python 3 (ipykernel)",
   "language": "python",
   "name": "python3"
  },
  "language_info": {
   "codemirror_mode": {
    "name": "ipython",
    "version": 3
   },
   "file_extension": ".py",
   "mimetype": "text/x-python",
   "name": "python",
   "nbconvert_exporter": "python",
   "pygments_lexer": "ipython3",
   "version": "3.9.7"
  }
 },
 "nbformat": 4,
 "nbformat_minor": 5
}
