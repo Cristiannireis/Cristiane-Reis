{
 "cells": [
  {
   "cell_type": "code",
   "execution_count": 1,
   "id": "74c2c1df",
   "metadata": {},
   "outputs": [
    {
     "name": "stdout",
     "output_type": "stream",
     "text": [
      "a taxa foi de 0.03\n"
     ]
    }
   ],
   "source": [
    "meta = 0.08\n",
    "taxa = 0\n",
    "rendimento = 0.30\n",
    "\n",
    "if rendimento > meta:\n",
    "    if rendimento > 0.25:\n",
    "        taxa = 0.03\n",
    "        print('a taxa foi de {}'.format(taxa))\n",
    "    else:\n",
    "        taxa = 0.02\n",
    "        print('a taxa foi de {}'.format(taxa))\n",
    "else:\n",
    "    taxa = 0\n",
    "    print('a taxa foi de {}'.format(taxa))\n",
    "        "
   ]
  },
  {
   "cell_type": "markdown",
   "id": "06810d5a",
   "metadata": {},
   "source": [
    "# IF ELSE ELIF\n"
   ]
  },
  {
   "cell_type": "code",
   "execution_count": 2,
   "id": "f981fcfe",
   "metadata": {},
   "outputs": [
    {
     "name": "stdout",
     "output_type": "stream",
     "text": [
      "Não ganhou bonus\n"
     ]
    }
   ],
   "source": [
    "meta = 45000\n",
    "vendas = 30000\n",
    "\n",
    "if vendas < meta:\n",
    "    print('Não ganhou bonus')\n",
    "elif vendas > (vendas *2):\n",
    "    bonus = 0.07 * vendas\n",
    "    print('ganhou de bonus {}'.format(bonus))\n",
    "else:\n",
    "    bonus = 0.03 * vendas\n",
    "    print('ganhou de {} bonus'.format(bonus))"
   ]
  },
  {
   "cell_type": "code",
   "execution_count": null,
   "id": "036937f9",
   "metadata": {},
   "outputs": [],
   "source": []
  }
 ],
 "metadata": {
  "kernelspec": {
   "display_name": "Python 3 (ipykernel)",
   "language": "python",
   "name": "python3"
  },
  "language_info": {
   "codemirror_mode": {
    "name": "ipython",
    "version": 3
   },
   "file_extension": ".py",
   "mimetype": "text/x-python",
   "name": "python",
   "nbconvert_exporter": "python",
   "pygments_lexer": "ipython3",
   "version": "3.9.7"
  }
 },
 "nbformat": 4,
 "nbformat_minor": 5
}
