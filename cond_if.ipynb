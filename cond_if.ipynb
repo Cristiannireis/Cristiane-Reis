{
 "cells": [
  {
   "cell_type": "code",
   "execution_count": 5,
   "id": "de3ca818",
   "metadata": {},
   "outputs": [
    {
     "name": "stdout",
     "output_type": "stream",
     "text": [
      "Bonus funcionario 9600.0\n"
     ]
    }
   ],
   "source": [
    "meta_funcionario = 100000\n",
    "meta_loja = 150000\n",
    "vendas_funcionario = 320000\n",
    "vendas_loja = 350000\n",
    "\n",
    "if vendas_funcionario > meta_funcionario and vendas_loja > meta_loja:\n",
    "    bonus = 0.03 * vendas_funcionario\n",
    "    print(\"Bonus funcionario {}\".format(bonus))\n",
    "else:\n",
    "    print(\"funcionario nao ganhou o bonus\")"
   ]
  },
  {
   "cell_type": "code",
   "execution_count": null,
   "id": "926d0646",
   "metadata": {},
   "outputs": [],
   "source": []
  }
 ],
 "metadata": {
  "kernelspec": {
   "display_name": "Python 3 (ipykernel)",
   "language": "python",
   "name": "python3"
  },
  "language_info": {
   "codemirror_mode": {
    "name": "ipython",
    "version": 3
   },
   "file_extension": ".py",
   "mimetype": "text/x-python",
   "name": "python",
   "nbconvert_exporter": "python",
   "pygments_lexer": "ipython3",
   "version": "3.9.7"
  }
 },
 "nbformat": 4,
 "nbformat_minor": 5
}
